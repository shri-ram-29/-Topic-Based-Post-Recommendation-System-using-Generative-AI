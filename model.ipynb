{
 "cells": [
  {
   "cell_type": "code",
   "execution_count": 37,
   "id": "1c715ef5",
   "metadata": {},
   "outputs": [],
   "source": [
    "#Load the packages\n",
    "import json #working with JSON data\n",
    "import re #regular expressions and text processing\n",
    "import torch #deep learning with PyTorch\n",
    "import nltk  #natural language processing tasks\n",
    "\n",
    "#importing stopwords and tokenizers from NLTK corpus\n",
    "from nltk.corpus import stopwords  \n",
    "from nltk.tokenize import word_tokenize\n",
    "\n",
    "#Classes for GPT-2 tokenizer and model from HuggingFace's transformers library\n",
    "from transformers import GPT2Tokenizer, GPT2Model\n",
    "\n",
    "#to perform keyword extraction and topic modeling.\n",
    "from keybert import KeyBERT"
   ]
  },
  {
   "cell_type": "code",
   "execution_count": null,
   "id": "952d1b67",
   "metadata": {},
   "outputs": [],
   "source": [
    "# Download NLTK resources\n",
    "nltk.download('punkt')\n",
    "nltk.download('stopwords')"
   ]
  },
  {
   "cell_type": "code",
   "execution_count": 39,
   "id": "9f273671",
   "metadata": {},
   "outputs": [],
   "source": [
    "#Load the dataset\n",
    "train_data_path = #Dataset location\n",
    "test_data_path =  #Dataset location"
   ]
  },
  {
   "cell_type": "code",
   "execution_count": 40,
   "id": "ee366b3b",
   "metadata": {},
   "outputs": [],
   "source": [
    "#read the dataset\n",
    "with open(train_data_path, 'r') as train_file:\n",
    "    train_data = json.load(train_file)\n",
    "    \n",
    "with open(test_data_path, 'r') as test_file:\n",
    "    test_data = json.load(test_file)"
   ]
  },
  {
   "cell_type": "code",
   "execution_count": 41,
   "id": "ad9cb2ee",
   "metadata": {},
   "outputs": [],
   "source": [
    "#initalize GPT-2 tokenizer and model\n",
    "tokenizer = GPT2Tokenizer.from_pretrained('gpt2')\n",
    "tokenizer.pad_token = tokenizer.eos_token    #set padding token\n",
    "\n",
    "model = GPT2Model.from_pretrained('gpt2')\n",
    "\n",
    "#defining additional preprocessing step\n",
    "stop_words =set(stopwords.words('english'))"
   ]
  },
  {
   "cell_type": "code",
   "execution_count": 42,
   "id": "71ab4721",
   "metadata": {},
   "outputs": [],
   "source": [
    "#function to remove special characters, URLs, and digitis \n",
    "def clean_text(text):\n",
    "    # Remove special characters, URLs, and digits\n",
    "    text = re.sub(r'\\d+', '', text)\n",
    "    text = re.sub(r'http\\S+', '', text)\n",
    "    text = re.sub(r'[^\\w\\s]', '', text)\n",
    "    # Tokenize and remove stopwords\n",
    "    tokens = word_tokenize(text)\n",
    "    filtered_text = [word for word in tokens if word.lower() not in stop_words]\n",
    "    return ' '.join(filtered_text)"
   ]
  },
  {
   "cell_type": "code",
   "execution_count": 43,
   "id": "9271e2c2",
   "metadata": {},
   "outputs": [],
   "source": [
    "def preprocess_data(data):\n",
    "    cleaned_data = []\n",
    "    for post_dict in data:\n",
    "        cleaned_text = clean_text(post_dict['text'])\n",
    "        cleaned_data.append(cleaned_text)\n",
    "    return cleaned_data\n",
    "\n",
    "cleaned_test_data = preprocess_data(test_data)"
   ]
  },
  {
   "cell_type": "code",
   "execution_count": 44,
   "id": "d678823c",
   "metadata": {},
   "outputs": [],
   "source": [
    "def extract_topics_gpt2(text):\n",
    "    # Tokenize input text\n",
    "    inputs = tokenizer(text, return_tensors='pt', max_length=512, truncation=True)\n",
    "    # Forward pass through GPT-2 model\n",
    "    with torch.no_grad():\n",
    "        outputs = model(**inputs)\n",
    "    # Get hidden states from model output\n",
    "    hidden_states = outputs.last_hidden_state\n",
    "    # Sum the hidden states across all tokens\n",
    "    pooled_output = hidden_states.sum(dim=1)\n",
    "    # Extract topics from the pooled output using KeyBERT\n",
    "    keybert_model = KeyBERT('distilbert-base-nli-mean-tokens')\n",
    "    keywords = keybert_model.extract_keywords(text)\n",
    "    topics = [keyword for keyword, _ in keywords]\n",
    "    return topics"
   ]
  },
  {
   "cell_type": "code",
   "execution_count": 45,
   "id": "5e01c3a4",
   "metadata": {},
   "outputs": [],
   "source": [
    "def calculate_relevance(user_profile, post, topics):\n",
    "    #calculating relevance based on keyword matching\n",
    "    keywords = user_profile + topics  # Combine user profile and post topics\n",
    "    keyword_count = sum(post.lower().count(keyword.lower()) for keyword in keywords)\n",
    "    post_length = len(post.split())  # Total number of words in the post\n",
    "    \n",
    "    # Calculate relevance score based on keyword count and post length\n",
    "    relevance_score = keyword_count / post_length if post_length > 0 else 0\n",
    "    \n",
    "    return relevance_score"
   ]
  },
  {
   "cell_type": "code",
   "execution_count": 46,
   "id": "d682c09d",
   "metadata": {},
   "outputs": [],
   "source": [
    "def recommend_posts(user_profile, posts):\n",
    "    recommendations = []\n",
    "    for post in posts:\n",
    "        # Extracting topics for the current post\n",
    "        topics = extract_topics_gpt2(post)\n",
    "        # Compare user profile topics with post topics and calculate relevance score\n",
    "        relevance_score = calculate_relevance(user_profile, post, topics)\n",
    "        recommendations.append((post, relevance_score))\n",
    "    # Sorting recommendations based on relevance score\n",
    "    recommendations.sort(key=lambda x: x[1], reverse=True)\n",
    "    return recommendations"
   ]
  },
  {
   "cell_type": "code",
   "execution_count": 47,
   "id": "95c3bbb6",
   "metadata": {},
   "outputs": [
    {
     "name": "stdout",
     "output_type": "stream",
     "text": [
      "Relevance Score: 0.22857142857142856\n",
      "Savings close subsecond account bunch articles Capital One redesigned site could open additional subsecond savings accounts close online done open one Christmas gifts close Christmas life cant see close subsecond savings account remove feature missing\n",
      "--------------------------------------------------\n",
      "Relevance Score: 0.21212121212121213\n",
      "Backdoor ROTH conversion account transfer question Hi second year backdoor ROTH first year create dedicated ROTH account everything forms ampxB year customer rep TD Ameritrade matters telling cash traditional online internal transfer traditional ROTH claim form necessary im converting actual shares ampxB feels bit concerning fill ROTH conversion form case TDA ie paper record backdoor ampxB process every year transfer money traditional ROTH forms ampxB Thanks\n",
      "--------------------------------------------------\n",
      "Relevance Score: 0.20833333333333334\n",
      "Looking open online savings account Hello first time Im posting subreddit Im posting wrong place apologize already Ally savings account main savings love Ally far great transfers main bank Chase Ally always quick want open another online savings account save car see CIBC currently APY anyone heard good things online bank anyone recommend another good online bank good customer service fast transfer rates similar APY online bank good app use well Thanks\n",
      "--------------------------------------------------\n",
      "Relevance Score: 0.12727272727272726\n",
      "advice BOA credit limit increase Im looking advice asking credit limit increase bank america card looks like historically always hard pull articles saying longer anyone know still hard pull request increase Right Ive card years k limitwhat would reasonable request would like around k dont want sell short ask k even k let counter lower\n",
      "--------------------------------------------------\n",
      "Relevance Score: 0.11538461538461539\n",
      "Paying Debt Plan Need advice got random question need advice got options dont know path take Right k credit card debt unique situation happened picked nd Job work days week two MF pm Main Job Sat Sun pms Basically using nd jobs check pay debt bi weekly ever card Im targeting getting bare minimal k month Thanks second job credit already shit due incomedebt ratio question continue paying minimum main check targeting nd focus extra check week main check plus check nd job basically target card time month pay month half let know harassed tell make mark month expect payment next month paid soon\n",
      "--------------------------------------------------\n",
      "Relevance Score: 0.09433962264150944\n",
      "refund concert drama heres story Sept purchased two tickets concert wife Forward November card used purchase tickets somehow compromised CC number used purchase Uber rides California New York City within minutes refunded money used issued another CC number Forward midDecember concert postponed wanted refund werent going able make new date contactedAXS provider tickets issue refund issues however fund issued wrong CC number AXS refund funds different CC numberwhich understand contact CC companyCredit one never business unless made several calls refund applied correct CC number acknowledged received fund old CC number stands Im waiting Friday refund applied doesnt happen ampxB friday would next step force hand ampxB\n",
      "--------------------------------------------------\n",
      "Relevance Score: 0.09375\n",
      "Series Savings Bonds Redemption bought Series Savings Bonds March treasurydirect shows interest rate Current Value ampxB redeem early months interest forfeited Id like sell rebuy since interest rate difference vs current would make penalty lt year ampxB went redeem bonds quick math shows monthly interest around x months line interest shown However seems penalty estimated removed missing something final screen sell value still shown\n",
      "--------------------------------------------------\n",
      "Relevance Score: 0.08333333333333333\n",
      "got first credit card approval First guys rule thin credit score zero want build buy house couple years applied credit card got unsecured limit long timelurking gather want use show Im good Im bit confused read want use max mean ever use always leave unpaid due bad pay whole thing every time Im billed know newbie question Im confused weeds\n",
      "--------------------------------------------------\n",
      "Relevance Score: 0.08333333333333333\n",
      "closed student loan debts showing credit report went delinquent student loans sent collection agency think debit taken care deferred Currently Im income based repayment plan period didnt know handle debt didnt know options employed uneducated came finances Im trying get derogatory marks credit since showing closed closed since collection agency told contact originator college college told college would remove anything like keeps report standard year time frame would fall automatically women phone suggested write letter credit agencies requesting marks removed based tone confident would futile college would say legitimate mark refuse remove score options remove credit\n",
      "--------------------------------------------------\n",
      "Relevance Score: 0.03363914373088685\n",
      "Critique Budget Hello rpersonalfinance throwaway account anonymity sake wife started budgeted months ago Id like get critiqued potential areas overspending general advice etc information us ampxB primary breadwinner make kyear gross top receive bonus annually k wife currently finishing undergrad history works part time makes around month taxes detail current budget us savings totals student loan debt broken w interest anything else think needs mentioned far bigger future expenses going Disney World family upcoming Summer would like get house years ampxB Current savings ampxB Monthly income wife Total ampxB Current Budgetexpenses ampxB Rent ampxB Loans minimum payment mine ampxB Groceries ampxB Car Insurance ampxB Utilities ampxB Phone ampxB Internet ampxB Monthly Subscriptions hulunetflixspotify premiumkindleetc ampxB Charitable Giving ampxB Pets dogs cat ampxB Eating ampxB Beer ampxB Coffee ampxB Miscellaneous ampxB Gas wife commutes min way school ampxB Fun Money us ampxB Cleaning toiletries paper towels etc ampxB School Parking ampxB Total Income ampxB Total Expenses ampxB Total left save ampxB perfect scenario budget Typically unbudgeted unexpected expenses drive left like month past one cars needing serviced Saturn Ion k miles Mercury Mountaineer k miles unexpected vet bills unexpected travel etc ampxB far loans go currently Student Loans Additionally loans wife taken finish undergrad degree loaned parents want prioritize hate owing family money even though interest free breakdown current loans ampxB Loan balance interest rate ampxB Loan balance interest rate ampxB Loan balance interest rate ampxB Loan balance interest rate ampxB Loan balance interest rate ampxB Loan balance interest rate ampxB ampxB annual bonus come March plan use pay loan put towards owe parents pay Disney World trip remaining go savings new mattress ampxB wanted detailed possible Feel free ask questions critique budget point areas overspending etc wont offended brutally honest need far house goes want something around k acres goal homestead ampxB Thanks ampxB Edit maximize companys stock match month also put towards k highest company match percentage Also tax income provide pay health insurance etc ampxB\n",
      "--------------------------------------------------\n"
     ]
    }
   ],
   "source": [
    "# Example usage\n",
    "sample_user_profile = ['finance', 'retirement savings']\n",
    "sample_posts = cleaned_test_data[:10]  # Example: Using first 10 posts for demonstration\n",
    "\n",
    "# Ensure user profile is formatted correctly\n",
    "sample_user_profile = [topic.lower() for topic in sample_user_profile]\n",
    "\n",
    "# Recommend posts\n",
    "recommended_posts = recommend_posts(sample_user_profile, sample_posts)\n",
    "\n",
    "# Format output\n",
    "for post, relevance_score in recommended_posts:\n",
    "    print(f\"Relevance Score: {relevance_score}\\n{post}\\n{'-' * 50}\")\n"
   ]
  },
  {
   "cell_type": "code",
   "execution_count": null,
   "id": "a4e6939a",
   "metadata": {},
   "outputs": [],
   "source": []
  }
 ],
 "metadata": {
  "kernelspec": {
   "display_name": "Python 3 (ipykernel)",
   "language": "python",
   "name": "python3"
  },
  "language_info": {
   "codemirror_mode": {
    "name": "ipython",
    "version": 3
   },
   "file_extension": ".py",
   "mimetype": "text/x-python",
   "name": "python",
   "nbconvert_exporter": "python",
   "pygments_lexer": "ipython3",
   "version": "3.10.9"
  }
 },
 "nbformat": 4,
 "nbformat_minor": 5
}
